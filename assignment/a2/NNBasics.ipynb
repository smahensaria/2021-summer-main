{
 "cells": [
  {
   "cell_type": "markdown",
   "metadata": {},
   "source": [
    "# Neural Network Basics\n",
    "\n",
    "### Brief Review of Machine Learning\n",
    "\n",
    "In supervised learning, parametric models are those where the model is a function of a fixed form with a number of unknown _parameters_.  Together with a loss function and a training set, an optimizer can select parameters to minimize the loss with respect to the training set.  Common optimizers include stochastic gradient descent.  It tweaks the parameters slightly to move the loss \"downhill\" due to a small batch of examples from the training set.\n",
    "\n",
    "## Part A:  Linear & Logistic Regression\n",
    "\n",
    "You've likely seen linear regression before.  In linear regression, we fit a line (technically, hyperplane) that predicts a target variable, $y$, based on some features $x$.  The form of this model is affine (even if we call it \"linear\"):  \n",
    "\n",
    "$$y_{hat} = xW + b$$\n",
    "\n",
    "where $W$ and $b$ are weights and an offset, respectively, and are the parameters of this parametric model.  The loss function that the optimizer uses to fit these parameters is the squared error ($||\\cdots||_2$) between the prediction and the ground truth in the training set.\n",
    "\n",
    "You've also likely seen logistic regression, which is tightly related to linear regression.  Logistic regression also fits a line - this time separating the positive and negative examples of a binary classifier.  The form of this model is similar: \n",
    "\n",
    "$$y_{hat} = \\sigma(xW + b)$$\n",
    "\n",
    "where again $W$ and $b$ are the parameters of this model, and $\\sigma$ is the [sigmoid function](https://en.wikipedia.org/wiki/Sigmoid_function) which maps un-normalized scores (\"logits\") to values $\\hat{y} \\in [0,1]$ that represent probabilities. The loss function that the optimizer uses to fit these parameters is the [cross entropy](../a1/information_theory.ipynb) between the prediction and the ground truth in the training set.\n",
    "\n",
    "This pattern of an affine transform, $xW + b$, occurs over and over in machine learning.\n",
    "\n",
    "**We'll use logistic regression as our running example for the rest of this part.**\n",
    "\n",
    "\n",
    "### Short Answer Questions\n",
    "\n",
    "Imagine you want to implement logistic regression:\n",
    "\n",
    "* `z = xW + b`\n",
    "* `y_hat = sigmoid(z)`\n",
    "\n",
    "Where:\n",
    "1.  `x` is an 11-dimensional feature vector\n",
    "2.  `W` is the weight vector\n",
    "3.  `b` is the bias term\n",
    "\n",
    "What are the dimensions of `W` and `b`?  Recall that in logistic regression, `z` is just a scalar (commonly referred to as the \"logit\").\n",
    "\n",
    "Sketch a picture of the whole equation using rectangles to illustrate the dimensions of `x`, `W`, and `b`.  See examples below for inspiration (though please label each dimension).  We don't ask you to submit this, but make sure you can do it!  It's the \"print\" debugging statement of neural networks!  It's also useful for reading papers... if you can't draw the shapes of all the tensors, you don't (yet) know what's going on!"
   ]
  },
  {
   "cell_type": "markdown",
   "metadata": {},
   "source": [
    "#### Answer: x is of dimension (1, 11), W is of dimension (11, 1) and b is a scalar"
   ]
  },
  {
   "cell_type": "markdown",
   "metadata": {},
   "source": [
    "## Part B: Batching\n",
    "\n",
    "Let's say we want to perform inference using your model (parameters `W` and `b`) above on multiple examples instead of just one. On modern hardware (especially GPUs), we can do this efficiently by *batching*.\n",
    "\n",
    "To do this, we stack up the feature vectors in x like in the diagram below.  Note that changing the number of examples you run on (i.e. your batch size) *does not* affect the number of parameters in your model.  You're just running the same thing in parallel (instead of running the above one feature vector at a time at a time).\n",
    "\n",
    "![](batchaffine.png)\n",
    "\n",
    "The red (# features) and blue (batch size) lines represent dimensions that are the same.\n",
    "\n",
    "### Short Answer Questions\n",
    "\n",
    "If we have 11 features and running the model in parallel with 30 examples, what are the dimensions of:\n",
    "\n",
    "1. `W` ?\n",
    "2. `b` ?\n",
    "3. `x` ?\n",
    "4. `z` ?\n",
    "\n",
    "_Hint:_ remember that your model parameters stay fixed!"
   ]
  },
  {
   "cell_type": "markdown",
   "metadata": {},
   "source": [
    "#### Answer:\n",
    "\n",
    "1. $W=[11,1]$\n",
    "2. $b=[1,1]$\n",
    "3. $x=[1,11]$\n",
    "4. $z=[1,1]$"
   ]
  },
  {
   "cell_type": "markdown",
   "metadata": {},
   "source": [
    "## Part C: Logistic Regression - NumPy Implementation\n",
    "\n",
    "In this section, we'll implement logistic regression by hand and compute a few values to make sure we understand what's going on!\n",
    "\n",
    "Let's say your model has the following parameters:"
   ]
  },
  {
   "cell_type": "code",
   "execution_count": 2,
   "metadata": {},
   "outputs": [],
   "source": [
    "import numpy as np\n",
    "\n",
    "W = np.array([46,6,3,24,-1])\n",
    "b = 5"
   ]
  },
  {
   "cell_type": "markdown",
   "metadata": {},
   "source": [
    "If you want to run the model on the following three examples:\n",
    "\n",
    "* [1, 2, 3, 4, 5]\n",
    "* [0, 0, 0, 0, 5]\n",
    "* [-3, -4, -12, -1, 1]\n",
    "\n",
    "Construct the x matrix **such that you compute the answer all in one big batch** and compute the probability of the positive class for each."
   ]
  },
  {
   "cell_type": "code",
   "execution_count": 10,
   "metadata": {},
   "outputs": [
    {
     "name": "stdout",
     "output_type": "stream",
     "text": [
      "z = Wx + b: [ 163    0 -218]\n",
      "Sigmoid(z): [1.00000000e+00 5.00000000e-01 2.10767161e-95]\n"
     ]
    }
   ],
   "source": [
    "# Import sigmoid.\n",
    "from scipy.special import expit as sigmoid\n",
    "\n",
    "### YOUR CODE HERE\n",
    "\n",
    "#define the input vector x with 3 examples\n",
    "x = np.array([[1, 2, 3, 4, 5], [0, 0, 0, 0, 5], [-3, -4, -12, -1, 1]])\n",
    "\n",
    "#compute the output z\n",
    "z = x.dot(W) + b\n",
    "print('z = Wx + b:', z)\n",
    "\n",
    "#compute the logistic regression\n",
    "h = sigmoid(z)\n",
    "\n",
    "#print z\n",
    "print('Sigmoid(z):', h)\n",
    "### END YOUR CODE"
   ]
  },
  {
   "cell_type": "markdown",
   "metadata": {},
   "source": [
    "### Short Answer Questions\n",
    "\n",
    "1. What is the probability of the positive class for the second (middle) example?\n",
    "2. What is the cross-entropy loss in Base 2 of the second example if its label is positive?"
   ]
  },
  {
   "cell_type": "markdown",
   "metadata": {},
   "source": [
    "#### Answers:\n",
    "\n",
    "1. Probability of the positive class for the second example = $0.5$"
   ]
  },
  {
   "cell_type": "markdown",
   "metadata": {},
   "source": [
    "2. Cross Entropy:\n",
    "\n",
    "$$ \\text{CE}(P,Q) = \\sum_{x} - P(x) \\log_2 Q(x) = \\mathrm{E}_{x \\sim P(x)}\\left[ -\\log_2 Q(x) \\right] $$"
   ]
  },
  {
   "cell_type": "code",
   "execution_count": 86,
   "metadata": {},
   "outputs": [
    {
     "name": "stdout",
     "output_type": "stream",
     "text": [
      "P(x): [0, 1, 0]\n",
      "Q(x): [1.00000000e+00 5.00000000e-01 2.10767161e-95]\n",
      "[   0.           -1.         -314.50751891]\n",
      "Cross Entropy =  1.0\n"
     ]
    }
   ],
   "source": [
    "import pandas as pd\n",
    "\n",
    "p_data = [0, 1, 0]\n",
    "#p = pd.DataFrame(p_data)\n",
    "\n",
    "# use actual probailities from 1. above\n",
    "q_data = h\n",
    "#q = pd.DataFrame(q_data)\n",
    "\n",
    "print('P(x):', p_data)\n",
    "print('Q(x):', q_data)\n",
    "\n",
    "print(np.log2(q_data))\n",
    "\n",
    "cross_entropy = round(-1*sum(p_data*np.log2(q_data)), 5)\n",
    "print(\"Cross Entropy = \", cross_entropy)"
   ]
  },
  {
   "cell_type": "markdown",
   "metadata": {},
   "source": [
    "## Part D: NumPy Feed Forward Neural Network\n",
    "\n",
    "Let's do the same procedure for a simple feed-forward neural network.\n",
    "\n",
    "Imagine you have a 3 layer network (hint: # of affines = # of layers)  Each hidden layer is size 10.  Just like before, you've already trained your model and you just want to run it forward.  For this exercise, let's say that each weight matrix is np.ones(...) and each bias term is [-1, -2, -3, ..., -n] if the bias term is $n$ long.  Compute the probability of the positive class for the three examples above, again in a single batch.\n",
    "\n",
    "**Hint:  Draw the shapes of the matrices at each layer out on a piece of paper!  Include it with any questions you post to Piazza.**\n",
    "\n",
    "Assume your model uses a sigmoid as the nonlinearity for all layers."
   ]
  },
  {
   "cell_type": "code",
   "execution_count": 79,
   "metadata": {
    "scrolled": true
   },
   "outputs": [
    {
     "name": "stdout",
     "output_type": "stream",
     "text": [
      "x shape: (3, 5)\n",
      "W1 shape: (5, 10)\n",
      "b1 shape (3, 10)\n",
      "H1 shape: (3, 10)\n",
      "W2 shape: (10, 10)\n",
      "b2 shape (3, 10)\n",
      "H2 shape: (3, 10)\n",
      "W3 shape: (10, 1)\n",
      "b3 shape (1,)\n",
      "[-1]\n",
      "O shape: (3, 1)\n",
      "Probabilities: [[0.99967432]\n",
      " [0.95354128]\n",
      " [0.3691505 ]]\n"
     ]
    }
   ],
   "source": [
    "### YOUR CODE HERE\n",
    "\n",
    "print('x shape:', x.shape)\n",
    "#print(x[0])\n",
    "\n",
    "#First Hidden Layer\n",
    "W_1 = np.ones((5, 10))\n",
    "print('W1 shape:', W_1.shape)\n",
    "#print(W_1)\n",
    "\n",
    "b_1 = np.asarray([np.arange(-1, -11, -1), np.arange(-1, -11, -1), np.arange(-1, -11, -1)])\n",
    "print('b1 shape', b_1.shape)\n",
    "#print(b_1)\n",
    "\n",
    "#Hidden Layer 1 output\n",
    "H_1 = sigmoid(x.dot(W_1) + b_1)\n",
    "print('H1 shape:', H_1.shape)\n",
    "#print(H_1)\n",
    "\n",
    "#Second Hidden Layer\n",
    "W_2 = np.ones((10, 10))\n",
    "print('W2 shape:', W_2.shape)\n",
    "#print(W_2)\n",
    "\n",
    "b_2 = b_1\n",
    "print('b2 shape', b_2.shape)\n",
    "#print(b_2)\n",
    "\n",
    "#Hidden Layer 2 output\n",
    "H_2 = sigmoid(H_1.dot(W_2) + b_2)\n",
    "print('H2 shape:', H_2.shape)\n",
    "#print(H_2)\n",
    "\n",
    "#Output Layer\n",
    "W_3 = np.ones((10, 1))\n",
    "print('W3 shape:', W_3.shape)\n",
    "#print(W_3)\n",
    "\n",
    "b_3 = np.arange(-1, -2, -1)\n",
    "print('b3 shape', b_3.shape)\n",
    "print(b_3)\n",
    "\n",
    "O = sigmoid(H_2.dot(W_3) + b_3)\n",
    "print('O shape:', O.shape)\n",
    "print('Probabilities:', O)\n",
    "\n",
    "### END YOUR CODE"
   ]
  },
  {
   "cell_type": "markdown",
   "metadata": {},
   "source": [
    "### Short Answer Questions\n",
    "\n",
    "1.  What is the probability of the third example?\n",
    "2.  What is the cross-entropy loss if its label is negative?"
   ]
  },
  {
   "cell_type": "markdown",
   "metadata": {},
   "source": [
    "#### Answers:\n",
    "\n",
    "1. Probability of the positive class for the second example = $0.36915$"
   ]
  },
  {
   "cell_type": "markdown",
   "metadata": {},
   "source": [
    "2. Cross Entropy:\n",
    "\n",
    "$$ \\text{CE}(P,Q) = \\sum_{x} - P(x) \\log_2 Q(x) = \\mathrm{E}_{x \\sim P(x)}\\left[ -\\log_2 Q(x) \\right] $$"
   ]
  },
  {
   "cell_type": "code",
   "execution_count": 87,
   "metadata": {},
   "outputs": [
    {
     "name": "stdout",
     "output_type": "stream",
     "text": [
      "P(x): [1, 1, 0]\n",
      "Q(x): [0.9996743190158155, 0.9535412841350756, 0.36915049986717824]\n",
      "[-4.69934869e-04 -6.86326927e-02 -1.43771898e+00]\n",
      "Cross Entropy =  0.0691\n"
     ]
    }
   ],
   "source": [
    "p_data_2 = [1, 1, 0]\n",
    "#p = pd.DataFrame(p_data_2)\n",
    "\n",
    "# use actual probailities from 1. above\n",
    "q_data_2 = [O[0][0], O[1][0], O[2][0]]\n",
    "#q = pd.DataFrame(q_data_2)\n",
    "\n",
    "print('P(x):', p_data_2)\n",
    "print('Q(x):', q_data_2)\n",
    "\n",
    "print(np.log2(q_data_2))\n",
    "\n",
    "cross_entropy_2 = round(-1*sum(p_data_2*np.log2(q_data_2)), 5)\n",
    "print(\"Cross Entropy = \", cross_entropy_2)"
   ]
  },
  {
   "cell_type": "markdown",
   "metadata": {},
   "source": [
    "## Part E: Softmax\n",
    "\n",
    "Recall that softmax(z) is a vector with the same length as z, and whose components are:  $softmax(z)_i = \\frac{e^{z_i}}{\\Sigma_j e^{z_j}}$.\n",
    "\n",
    "### Short Answer Questions\n",
    "\n",
    "1. If the logits coming from the main body of the network are [4, 5, 6], what is the probability of the middle class?\n",
    "2. What is the cross-entropy loss if the correct class is the last one? (i.e. corresponding to logit=6)?\n",
    "3. If you had such a three-class classification problem, what would the dimensions of W and b be for the last layer of the feed forward neural network above? "
   ]
  },
  {
   "cell_type": "code",
   "execution_count": 82,
   "metadata": {},
   "outputs": [
    {
     "name": "stdout",
     "output_type": "stream",
     "text": [
      "[0.09003057 0.24472847 0.66524096]\n",
      "0.9999999999999997\n"
     ]
    }
   ],
   "source": [
    "#import softmax function\n",
    "from scipy.special import softmax\n",
    "\n",
    "logits = [4, 5, 6]\n",
    "s_z = softmax(logits)\n",
    "\n",
    "print(s_z)\n",
    "print(sum(s_z))"
   ]
  },
  {
   "cell_type": "markdown",
   "metadata": {},
   "source": [
    "#### Answers:\n",
    "\n",
    "1. Probability of middle class: $0.24473$"
   ]
  },
  {
   "cell_type": "code",
   "execution_count": 89,
   "metadata": {},
   "outputs": [
    {
     "name": "stdout",
     "output_type": "stream",
     "text": [
      "P(x): [0, 0, 1]\n",
      "Q(x): [0.09003057 0.24472847 0.66524096]\n",
      "[-3.47344119 -2.03074614 -0.5880511 ]\n",
      "2. Cross Entropy =  0.58805\n"
     ]
    }
   ],
   "source": [
    "#2. Cross Entropy\n",
    "\n",
    "import pandas as pd\n",
    "\n",
    "p_data_3 = [0, 0, 1]\n",
    "#p = pd.DataFrame(p_data)\n",
    "\n",
    "# use actual probailities from 1. above\n",
    "q_data_3 = s_z\n",
    "#q = pd.DataFrame(q_data)\n",
    "\n",
    "print('P(x):', p_data_3)\n",
    "print('Q(x):', q_data_3)\n",
    "\n",
    "print(np.log2(q_data_3))\n",
    "\n",
    "cross_entropy_3 = round(-1*sum(p_data_3*np.log2(q_data_3)), 5)\n",
    "print(\"2. Cross Entropy = \", cross_entropy_3)"
   ]
  },
  {
   "cell_type": "markdown",
   "metadata": {},
   "source": [
    "3. $W$ is of dimension (10, 3) and $b$ has dimension of (3)"
   ]
  },
  {
   "cell_type": "code",
   "execution_count": null,
   "metadata": {},
   "outputs": [],
   "source": []
  }
 ],
 "metadata": {
  "kernelspec": {
   "display_name": "Python 3",
   "language": "python",
   "name": "python3"
  },
  "language_info": {
   "codemirror_mode": {
    "name": "ipython",
    "version": 3
   },
   "file_extension": ".py",
   "mimetype": "text/x-python",
   "name": "python",
   "nbconvert_exporter": "python",
   "pygments_lexer": "ipython3",
   "version": "3.6.12"
  }
 },
 "nbformat": 4,
 "nbformat_minor": 2
}
